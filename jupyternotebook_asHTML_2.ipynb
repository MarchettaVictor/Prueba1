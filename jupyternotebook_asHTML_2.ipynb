{
 "cells": [
  {
   "cell_type": "code",
   "execution_count": 1,
   "metadata": {},
   "outputs": [],
   "source": [
    "# nbi:hide_in\n",
    "import pandas as pd\n",
    "import matplotlib.pyplot as plt\n",
    "import numpy as np\n",
    "import ipywidgets as widgets\n",
    "import nbinteract as nbi\n",
    "%matplotlib inline"
   ]
  },
  {
   "cell_type": "markdown",
   "metadata": {},
   "source": [
    "Universidad de los Andes.  \n",
    "Centro.  \n",
    "Área.  \n",
    "  \n",
    " *Trabajo de grado presentado ante la ilustre*  **Universidad de Los Andes**. \n",
    "   \n",
    " *Como requisito parcial para optar al Título de:*   **Licenciado en Física**.  \n",
    " *Presentado por:*   **Br. Victor T. Marchetta M**.  \n",
    " *Tutor:*   **Ing. Mayerlin Y. Uzcátegui S**.  \n",
    "\n",
    "# Extracción y Análisis de Datos de Criptomonedas.\n"
   ]
  },
  {
   "cell_type": "code",
   "execution_count": 2,
   "metadata": {},
   "outputs": [],
   "source": [
    "# nbi:hide_in\n",
    "fechaA = widgets.DatePicker()          \n",
    "fechaB = widgets.DatePicker()\n",
    "hour1 = widgets.Text(value='HH:MM:SS')\n",
    "hour2 = widgets.Text(value='HH:MM:SS')\n",
    "h1 =widgets.IntSlider(value=0,min=0,max=24,step=1,description='Hour',disabled=False,continuous_update=False,orientation='vertical',readout=True,readout_format='d')\n",
    "m1 =widgets.IntSlider(value=0,min=0,max=59,step=1,description='Minute',disabled=False,continuous_update=False,orientation='vertical',readout=True,readout_format='d')\n",
    "s1 =widgets.IntSlider(value=0,min=0,max=59,step=1,description='Second',disabled=False,continuous_update=False,orientation='vertical',readout=True,readout_format='d')\n",
    "h2 =widgets.IntSlider(value=0,min=0,max=24,step=1,description='Hour',disabled=False,continuous_update=False,orientation='vertical',readout=True,readout_format='d')\n",
    "m2 =widgets.IntSlider(value=0,min=0,max=59,step=1,description='Minute',disabled=False,continuous_update=False,orientation='vertical',readout=True,readout_format='d')\n",
    "s2 =widgets.IntSlider(value=0,min=0,max=59,step=1,description='Second',disabled=False,continuous_update=False,orientation='vertical',readout=True,readout_format='d')"
   ]
  },
  {
   "cell_type": "code",
   "execution_count": 3,
   "metadata": {
    "scrolled": true
   },
   "outputs": [
    {
     "data": {
      "application/vnd.jupyter.widget-view+json": {
       "model_id": "17c6f5358fa34524862e6c46302f2044",
       "version_major": 2,
       "version_minor": 0
      },
      "text/plain": [
       "HBox(children=(VBox(children=(Label(value='Select Initial Date'), DatePicker(value=None), HBox(children=(IntSl…"
      ]
     },
     "metadata": {},
     "output_type": "display_data"
    }
   ],
   "source": [
    "# nbi:hide_in\n",
    "left_box = widgets.VBox([widgets.Label(value=\"Select Initial Date\"),fechaA,widgets.HBox([h1,m1,s1])])\n",
    "right_box = widgets.VBox([widgets.Label(value=\"Select Final Date\"),fechaB,widgets.HBox([h2,m2,s2])])\n",
    "widgets.HBox([left_box, right_box])"
   ]
  },
  {
   "cell_type": "code",
   "execution_count": 4,
   "metadata": {},
   "outputs": [],
   "source": [
    "# nbi:hide_in\n",
    "date1 = str(fechaA.value) + str('T') + str(h1.value) + str(':') + str(m1.value) + str(':') + str(s1.value)\n",
    "date2 = str(fechaB.value) + str('T') + str(h2.value) + str(':') + str(m2.value) + str(':') + str(s2.value)\n",
    "\n",
    "name1 = 'fecha1.txt'; name2 = 'fecha2.txt'\n",
    "\n",
    "fecha1_file = open(name1, 'w+'); fecha1_file.write(str(date1)); fecha1_file.close()\n",
    "fecha2_file = open(name2, 'w+'); fecha2_file.write(str(date2)); fecha2_file.close()"
   ]
  },
  {
   "cell_type": "code",
   "execution_count": 5,
   "metadata": {},
   "outputs": [
    {
     "name": "stdout",
     "output_type": "stream",
     "text": [
      "Your initial date is NoneT0:0:0\n",
      "Your final date is NoneT0:0:0\n"
     ]
    }
   ],
   "source": [
    "# nbi:hide_in\n",
    "print(str('Your initial date is ') + date1)\n",
    "print(str('Your final date is ') + date2)"
   ]
  },
  {
   "cell_type": "code",
   "execution_count": 8,
   "metadata": {},
   "outputs": [
    {
     "name": "stdout",
     "output_type": "stream",
     "text": [
      "fecha 1\n",
      "NoneT0:0:0\n",
      "fecha 2\n",
      "NoneT0:0:0\n"
     ]
    }
   ],
   "source": [
    "%%bash\n",
    "tmp1=`cat fecha1.txt`\n",
    "tmp2=`cat fecha2.txt`\n",
    "echo \"fecha 1\"\n",
    "echo $tmp1\n",
    "echo \"fecha 2\"\n",
    "echo $tmp2"
   ]
  },
  {
   "cell_type": "code",
   "execution_count": 9,
   "metadata": {},
   "outputs": [
    {
     "ename": "SyntaxError",
     "evalue": "invalid syntax (<ipython-input-9-592567d93321>, line 1)",
     "output_type": "error",
     "traceback": [
      "\u001b[0;36m  File \u001b[0;32m\"<ipython-input-9-592567d93321>\"\u001b[0;36m, line \u001b[0;32m1\u001b[0m\n\u001b[0;31m    div.run_this_cell {\u001b[0m\n\u001b[0m                      ^\u001b[0m\n\u001b[0;31mSyntaxError\u001b[0m\u001b[0;31m:\u001b[0m invalid syntax\n"
     ]
    }
   ],
   "source": []
  },
  {
   "cell_type": "markdown",
   "metadata": {},
   "source": [
    "# FIN"
   ]
  }
 ],
 "metadata": {
  "kernelspec": {
   "display_name": "Python 3",
   "language": "python",
   "name": "python3"
  },
  "language_info": {
   "codemirror_mode": {
    "name": "ipython",
    "version": 3
   },
   "file_extension": ".py",
   "mimetype": "text/x-python",
   "name": "python",
   "nbconvert_exporter": "python",
   "pygments_lexer": "ipython3",
   "version": "3.8.2"
  }
 },
 "nbformat": 4,
 "nbformat_minor": 2
}
